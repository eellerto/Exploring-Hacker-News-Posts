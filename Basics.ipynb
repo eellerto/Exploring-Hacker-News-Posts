{
 "cells": [
  {
   "cell_type": "markdown",
   "metadata": {
    "collapsed": true
   },
   "source": [
    "This is a project on assessing the questions coming into Hacker news.\n"
   ]
  },
  {
   "cell_type": "code",
   "execution_count": 1,
   "metadata": {
    "collapsed": false,
    "scrolled": true
   },
   "outputs": [
    {
     "name": "stdout",
     "output_type": "stream",
     "text": [
      "['id', 'title', 'url', 'num_points', 'num_comments', 'author', 'created_at']\n",
      "[['12224879', 'Interactive Dynamic Video', 'http://www.interactivedynamicvideo.com/', '386', '52', 'ne0phyte', '8/4/2016 11:52'], ['10975351', 'How to Use Open Source and Shut the Fuck Up at the Same Time', 'http://hueniverse.com/2016/01/26/how-to-use-open-source-and-shut-the-fuck-up-at-the-same-time/', '39', '10', 'josep2', '1/26/2016 19:30'], ['11964716', \"Florida DJs May Face Felony for April Fools' Water Joke\", 'http://www.thewire.com/entertainment/2013/04/florida-djs-april-fools-water-joke/63798/', '2', '1', 'vezycash', '6/23/2016 22:20'], ['11919867', 'Technology ventures: From Idea to Enterprise', 'https://www.amazon.com/Technology-Ventures-Enterprise-Thomas-Byers/dp/0073523429', '3', '1', 'hswarna', '6/17/2016 0:01'], ['10301696', 'Note by Note: The Making of Steinway L1037 (2007)', 'http://www.nytimes.com/2007/11/07/movies/07stein.html?_r=0', '8', '2', 'walterbell', '9/30/2015 4:12']]\n"
     ]
    }
   ],
   "source": [
    "open_file = open(\"hacker_news.csv\", encoding=\"utf8\")\n",
    "from csv import reader\n",
    "read_file = reader(open_file)\n",
    "hn= list(read_file)\n",
    "headers = hn[0]\n",
    "hn = hn[1:]\n",
    "print(headers)\n",
    "print(hn[:5])"
   ]
  },
  {
   "cell_type": "markdown",
   "metadata": {},
   "source": [
    "We are only going to look at two posts, \"Ask HN\" and \"Show HN\". We will creating three separate lists to isolate the Ask and Show lists. "
   ]
  },
  {
   "cell_type": "code",
   "execution_count": 7,
   "metadata": {
    "collapsed": false
   },
   "outputs": [
    {
     "name": "stdout",
     "output_type": "stream",
     "text": [
      "Ask HN has 1744 posts.\n",
      "Show HN has 1162 posts.\n"
     ]
    }
   ],
   "source": [
    "ask_posts = []\n",
    "show_posts = []\n",
    "other_posts = []\n",
    "for row in hn:\n",
    "    title = row[1]\n",
    "    if title.lower().startswith('ask hn'):\n",
    "        ask_posts.append(row)\n",
    "    elif title.lower().startswith('show hn'):\n",
    "            show_posts.append(row)\n",
    "    else:\n",
    "        other_posts.append(row)\n",
    "        \n",
    "print('Ask HN has ' + str(len(ask_posts)) + ' posts.')\n",
    "print('Show HN has ' +str(len(show_posts)) +' posts.')\n",
    "#print(len(other_posts))"
   ]
  },
  {
   "cell_type": "markdown",
   "metadata": {},
   "source": [
    "Which post gets more comments? Ask or Show?"
   ]
  },
  {
   "cell_type": "code",
   "execution_count": 15,
   "metadata": {
    "collapsed": false
   },
   "outputs": [
    {
     "name": "stdout",
     "output_type": "stream",
     "text": [
      "There is an average of 14 comments to Ask HN posts.\n"
     ]
    }
   ],
   "source": [
    "total_ask_comments = 0\n",
    "for i in ask_posts:\n",
    "    num_comments = int(i[4])\n",
    "    total_ask_comments += num_comments\n",
    "\n",
    "avg_ask_comments = total_ask_comments/len(ask_posts)\n",
    " \n",
    "print('There is an average of '+ str(round(avg_ask_comments)) + ' comments to Ask HN posts.')    "
   ]
  },
  {
   "cell_type": "code",
   "execution_count": 20,
   "metadata": {
    "collapsed": false
   },
   "outputs": [
    {
     "name": "stdout",
     "output_type": "stream",
     "text": [
      "There is an average of 10 comments to Show HN posts\n"
     ]
    }
   ],
   "source": [
    "total_show_comments = 0\n",
    "for i in show_posts:\n",
    "    num_comments = int(i[4])\n",
    "    total_show_comments += num_comments\n",
    "\n",
    "avg_show_comments = total_show_comments/len((show_posts))\n",
    "print('There is an average of ' +str(round(avg_show_comments)) + ' comments to Show HN posts')"
   ]
  },
  {
   "cell_type": "markdown",
   "metadata": {},
   "source": [
    "On average, there are generally more comments to Ask posts than to Show posts, which is not surprising as people generally like to offer help."
   ]
  },
  {
   "cell_type": "markdown",
   "metadata": {},
   "source": [
    "Now we will find the amount of more comments are written at certain hours of the day by computing the avearge of comments per hour. "
   ]
  },
  {
   "cell_type": "code",
   "execution_count": 21,
   "metadata": {
    "collapsed": true
   },
   "outputs": [],
   "source": [
    "import datetime as dt"
   ]
  },
  {
   "cell_type": "code",
   "execution_count": 50,
   "metadata": {
    "collapsed": false
   },
   "outputs": [],
   "source": [
    "#computing the amount of comments per time of day\n",
    "result_list = []\n",
    "for i in ask_posts:\n",
    "    created_at= i[6]\n",
    "    num_comments = int(i[4])\n",
    "    result_list.append([created_at, num_comments])\n",
    "    \n",
    "#    \n",
    "counts_by_hour = {}\n",
    "comments_by_hour = {}\n",
    "for row in result_list:\n",
    "    date = dt.datetime.strptime(row[0], '%m/%d/%Y %H:%M')\n",
    "    hour = date.strftime('%H')\n",
    "    comments = row[1]\n",
    "    if hour not in counts_by_hour:\n",
    "        counts_by_hour[hour] = 1\n",
    "        comments_by_hour[hour] = comments\n",
    "        \n",
    "    else:\n",
    "        counts_by_hour[hour] += 1\n",
    "        comments_by_hour[hour] += comments\n",
    "\n"
   ]
  },
  {
   "cell_type": "markdown",
   "metadata": {
    "collapsed": false
   },
   "source": [
    "Now, to create a list of lists that shows the average number of comments per hour. "
   ]
  },
  {
   "cell_type": "code",
   "execution_count": 52,
   "metadata": {
    "collapsed": false
   },
   "outputs": [
    {
     "name": "stdout",
     "output_type": "stream",
     "text": [
      "{'15': 4477, '21': 1745, '23': 543, '16': 1814, '05': 464, '18': 1439, '10': 793, '19': 1188, '00': 447, '08': 492, '02': 1381, '14': 1416, '12': 687, '09': 251, '03': 421, '04': 337, '11': 641, '17': 1146, '13': 1253, '07': 267, '06': 397, '01': 683, '20': 1722, '22': 479}\n"
     ]
    }
   ],
   "source": [
    "print(comments_by_hour)"
   ]
  },
  {
   "cell_type": "code",
   "execution_count": 53,
   "metadata": {
    "collapsed": false,
    "scrolled": true
   },
   "outputs": [
    {
     "name": "stdout",
     "output_type": "stream",
     "text": [
      "{'15': 116, '21': 109, '23': 68, '16': 108, '05': 46, '18': 109, '10': 59, '19': 110, '00': 55, '08': 48, '02': 58, '14': 107, '12': 73, '09': 45, '03': 54, '04': 47, '11': 58, '17': 100, '13': 85, '07': 34, '06': 44, '01': 60, '20': 80, '22': 71}\n"
     ]
    }
   ],
   "source": [
    "print(counts_by_hour)"
   ]
  },
  {
   "cell_type": "code",
   "execution_count": null,
   "metadata": {
    "collapsed": false
   },
   "outputs": [],
   "source": []
  },
  {
   "cell_type": "code",
   "execution_count": 83,
   "metadata": {
    "collapsed": false
   },
   "outputs": [],
   "source": [
    "avg_by_hour = []\n",
    "for i in comments_by_hour:\n",
    "    #avg_hour = comments_by_hour[i]/counts_by_hour[i]\n",
    "    avg_by_hour.append([i, comments_by_hour[i]/counts_by_hour[i]])\n",
    "    "
   ]
  },
  {
   "cell_type": "code",
   "execution_count": 84,
   "metadata": {
    "collapsed": false
   },
   "outputs": [
    {
     "name": "stdout",
     "output_type": "stream",
     "text": [
      "[['15', 38.5948275862069], ['21', 16.009174311926607], ['23', 7.985294117647059], ['16', 16.796296296296298], ['05', 10.08695652173913], ['18', 13.20183486238532], ['10', 13.440677966101696], ['19', 10.8], ['00', 8.127272727272727], ['08', 10.25], ['02', 23.810344827586206], ['14', 13.233644859813085], ['12', 9.41095890410959], ['09', 5.5777777777777775], ['03', 7.796296296296297], ['04', 7.170212765957447], ['11', 11.051724137931034], ['17', 11.46], ['13', 14.741176470588234], ['07', 7.852941176470588], ['06', 9.022727272727273], ['01', 11.383333333333333], ['20', 21.525], ['22', 6.746478873239437]]\n"
     ]
    }
   ],
   "source": [
    "print(avg_by_hour)"
   ]
  },
  {
   "cell_type": "markdown",
   "metadata": {},
   "source": [
    "Now to sort the data so it is easier to read. We'll start by putting the comment # first and then sort by highest amount. "
   ]
  },
  {
   "cell_type": "code",
   "execution_count": 85,
   "metadata": {
    "collapsed": false
   },
   "outputs": [],
   "source": [
    "swap_avg_by_hour = []\n",
    "for i in avg_by_hour:\n",
    "    swap_avg_by_hour.append([i[1], i[0]])"
   ]
  },
  {
   "cell_type": "code",
   "execution_count": 86,
   "metadata": {
    "collapsed": false
   },
   "outputs": [
    {
     "name": "stdout",
     "output_type": "stream",
     "text": [
      "[[38.5948275862069, '15'], [16.009174311926607, '21'], [7.985294117647059, '23'], [16.796296296296298, '16'], [10.08695652173913, '05'], [13.20183486238532, '18'], [13.440677966101696, '10'], [10.8, '19'], [8.127272727272727, '00'], [10.25, '08'], [23.810344827586206, '02'], [13.233644859813085, '14'], [9.41095890410959, '12'], [5.5777777777777775, '09'], [7.796296296296297, '03'], [7.170212765957447, '04'], [11.051724137931034, '11'], [11.46, '17'], [14.741176470588234, '13'], [7.852941176470588, '07'], [9.022727272727273, '06'], [11.383333333333333, '01'], [21.525, '20'], [6.746478873239437, '22']]\n"
     ]
    }
   ],
   "source": [
    "print(swap_avg_by_hour)"
   ]
  },
  {
   "cell_type": "code",
   "execution_count": 98,
   "metadata": {
    "collapsed": false
   },
   "outputs": [],
   "source": [
    "sorted_swap =sorted(swap_avg_by_hour, reverse=True)"
   ]
  },
  {
   "cell_type": "code",
   "execution_count": 99,
   "metadata": {
    "collapsed": false
   },
   "outputs": [
    {
     "name": "stdout",
     "output_type": "stream",
     "text": [
      "[[38.5948275862069, '15'], [23.810344827586206, '02'], [21.525, '20'], [16.796296296296298, '16'], [16.009174311926607, '21'], [14.741176470588234, '13'], [13.440677966101696, '10'], [13.233644859813085, '14'], [13.20183486238532, '18'], [11.46, '17'], [11.383333333333333, '01'], [11.051724137931034, '11'], [10.8, '19'], [10.25, '08'], [10.08695652173913, '05'], [9.41095890410959, '12'], [9.022727272727273, '06'], [8.127272727272727, '00'], [7.985294117647059, '23'], [7.852941176470588, '07'], [7.796296296296297, '03'], [7.170212765957447, '04'], [6.746478873239437, '22'], [5.5777777777777775, '09']]\n"
     ]
    }
   ],
   "source": [
    "print(sorted_swap)\n"
   ]
  },
  {
   "cell_type": "code",
   "execution_count": 105,
   "metadata": {
    "collapsed": false
   },
   "outputs": [
    {
     "name": "stdout",
     "output_type": "stream",
     "text": [
      "Top 5 Hours for Ask Posts Comments\n",
      "15:00: 38.59 average comments per post\n",
      "02:00: 23.81 average comments per post\n",
      "20:00: 21.52 average comments per post\n",
      "16:00: 16.80 average comments per post\n"
     ]
    }
   ],
   "source": [
    "print('Top 5 Hours for Ask Posts Comments')\n",
    "for i in sorted_swap[0:4]:\n",
    "     \n",
    "    hour = dt.datetime.strptime(i[1], \"%H\")\n",
    "    hour = hour.strftime(\"%H:%M\" )\n",
    "    comments = i[0]\n",
    "\n",
    "    print(hour+':' + \" {:.2f}\".format(comments) + ' average comments per post')\n",
    "    \n",
    "    "
   ]
  },
  {
   "cell_type": "markdown",
   "metadata": {},
   "source": [
    "It would appear that if you want to make the most of your Ask Post and get as many responses as possible, you should post your question on Hacker News at 10pm if you live in the PST zone. "
   ]
  }
 ],
 "metadata": {
  "kernelspec": {
   "display_name": "Python 3",
   "language": "python",
   "name": "python3"
  },
  "language_info": {
   "codemirror_mode": {
    "name": "ipython",
    "version": 3
   },
   "file_extension": ".py",
   "mimetype": "text/x-python",
   "name": "python",
   "nbconvert_exporter": "python",
   "pygments_lexer": "ipython3",
   "version": "3.4.3"
  }
 },
 "nbformat": 4,
 "nbformat_minor": 2
}
